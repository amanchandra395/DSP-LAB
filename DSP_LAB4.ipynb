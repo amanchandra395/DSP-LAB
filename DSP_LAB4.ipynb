{
  "nbformat": 4,
  "nbformat_minor": 0,
  "metadata": {
    "colab": {
      "provenance": []
    },
    "kernelspec": {
      "name": "python3",
      "display_name": "Python 3"
    },
    "language_info": {
      "name": "python"
    }
  },
  "cells": [
    {
      "cell_type": "code",
      "execution_count": 3,
      "metadata": {
        "colab": {
          "base_uri": "https://localhost:8080/",
          "height": 438
        },
        "id": "dcl1ybLxluJU",
        "outputId": "8f0378e5-9c0f-47ab-b9e5-c001fcd18e3a"
      },
      "outputs": [
        {
          "name": "stdout",
          "output_type": "stream",
          "text": [
            "Enter the signal: 1 2 3 4 5\n"
          ]
        },
        {
          "output_type": "stream",
          "name": "stderr",
          "text": [
            "<ipython-input-3-b29f7ee9029b>:18: UserWarning: In Matplotlib 3.3 individual lines on a stem plot will be added as a LineCollection instead of individual lines. This significantly improves the performance of a stem plot. To remove this warning and switch to the new behaviour, set the \"use_line_collection\" keyword argument to True.\n",
            "  plt.stem(x)\n",
            "<ipython-input-3-b29f7ee9029b>:23: UserWarning: In Matplotlib 3.3 individual lines on a stem plot will be added as a LineCollection instead of individual lines. This significantly improves the performance of a stem plot. To remove this warning and switch to the new behaviour, set the \"use_line_collection\" keyword argument to True.\n",
            "  plt.stem(magnitude)\n",
            "<ipython-input-3-b29f7ee9029b>:28: UserWarning: In Matplotlib 3.3 individual lines on a stem plot will be added as a LineCollection instead of individual lines. This significantly improves the performance of a stem plot. To remove this warning and switch to the new behaviour, set the \"use_line_collection\" keyword argument to True.\n",
            "  plt.stem(phase)\n"
          ]
        },
        {
          "output_type": "display_data",
          "data": {
            "text/plain": [
              "<Figure size 432x288 with 3 Axes>"
            ],
            "image/png": "[encoded data removed]"
          },
          "metadata": {
            "needs_background": "light"
          }
        }
      ],
      "source": [
        "import numpy as np\n",
        "import matplotlib.pyplot as plt\n",
        "\n",
        "def dft(x):\n",
        "    N = len(x)\n",
        "    X = np.zeros(N, dtype=complex)\n",
        "    for k in range(N):\n",
        "        for n in range(N):\n",
        "            X[k] += x[n] * np.exp(-1j * 2 * np.pi * n * k / N)\n",
        "    return X\n",
        "\n",
        "def plot_dft(x):\n",
        "    X = dft(x)\n",
        "    magnitude = np.abs(X)\n",
        "    phase = np.angle(X)\n",
        "\n",
        "    plt.subplot(131)\n",
        "    plt.stem(x)\n",
        "    plt.xlabel('Sample index')\n",
        "    plt.ylabel('Signal')\n",
        "\n",
        "    plt.subplot(132)\n",
        "    plt.stem(magnitude)\n",
        "    plt.xlabel('Frequency index')\n",
        "    plt.ylabel('Magnitude')\n",
        "\n",
        "    plt.subplot(133)\n",
        "    plt.stem(phase)\n",
        "    plt.xlabel('Frequency index')\n",
        "    plt.ylabel('Phase (radians)')\n",
        "\n",
        "    plt.tight_layout()\n",
        "    plt.show()\n",
        "\n",
        "x = np.array(input(\"Enter the signal: \").split(), dtype=int)\n",
        "while(x.size < 8):\n",
        "  x = np.insert(x, x.size,0)\n",
        "\n",
        "plot_dft(x)"
      ]
    }
  ]
}