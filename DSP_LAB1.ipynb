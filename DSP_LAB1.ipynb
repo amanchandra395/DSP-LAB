{
  "nbformat": 4,
  "nbformat_minor": 0,
  "metadata": {
    "colab": {
      "provenance": [],
      "authorship_tag": "ABX9TyMW7E68SUJDvEx5Q/NqRELu",
      "include_colab_link": true
    },
    "kernelspec": {
      "name": "python3",
      "display_name": "Python 3"
    },
    "language_info": {
      "name": "python"
    },
    "accelerator": "GPU",
    "gpuClass": "standard"
  },
  "cells": [
    {
      "cell_type": "markdown",
      "metadata": {
        "id": "view-in-github",
        "colab_type": "text"
      },
      "source": [
        "<a href=\"https://colab.research.google.com/github/amanchandra395/Signal-Visualizer/blob/main/DSP_LAB1.ipynb\" target=\"_parent\"><img src=\"https://colab.research.google.com/assets/colab-badge.svg\" alt=\"Open In Colab\"/></a>"
      ]
    },
    {
      "cell_type": "code",
      "execution_count": 1,
      "metadata": {
        "colab": {
          "base_uri": "https://localhost:8080/",
          "height": 358
        },
        "id": "KwL8_JSWZzZA",
        "outputId": "0dc44092-5f5a-4792-c986-df81f7b0855d"
      },
      "outputs": [
        {
          "output_type": "stream",
          "name": "stdout",
          "text": [
            "range(-2, 6)\n",
            "[0, 0, 1, 1, 1, 1, 1, 1]\n"
          ]
        },
        {
          "output_type": "stream",
          "name": "stderr",
          "text": [
            "<ipython-input-1-8b8596184b7c>:16: UserWarning: In Matplotlib 3.3 individual lines on a stem plot will be added as a LineCollection instead of individual lines. This significantly improves the performance of a stem plot. To remove this warning and switch to the new behaviour, set the \"use_line_collection\" keyword argument to True.\n",
            "  plt.stem(n, y)\n"
          ]
        },
        {
          "output_type": "display_data",
          "data": {
            "text/plain": [
              "<Figure size 432x288 with 1 Axes>"
            ],
            "image/png": "[encoded data removed]"
          },
          "metadata": {
            "needs_background": "light"
          }
        }
      ],
      "source": [
        "#Unit Step Signal\n",
        "\n",
        "import numpy as np \n",
        "import matplotlib.pyplot as plt\n",
        "\n",
        "n = range(-2, 6, 1)\n",
        "y = []\n",
        "for i in range(len(n)):\n",
        "    temp = (1 if n[i]>=0 else 0)\n",
        "    y.append(temp)\n",
        "    \n",
        "print(n)\n",
        "print(y)\n",
        "\n",
        "#plotting the graph\n",
        "plt.stem(n, y)\n",
        "plt.axis([-2.1, 5.1, -0.1, 1.2])\n",
        "plt.show()"
      ]
    },
    {
      "cell_type": "code",
      "source": [
        "#Unit Ramp Signal\n",
        "\n",
        "n = range(-2, 6, 1)\n",
        "y = []\n",
        "for i in range(len(n)):\n",
        "    temp = (n[i] if n[i]>=0 else 0)\n",
        "    y.append(temp)\n",
        "    \n",
        "print(list(n))\n",
        "print(y)\n",
        "\n",
        "#Plotting the graph\n",
        "plt.stem(n, y)\n",
        "plt.axis([-2.1, 5.1, -0.1, 5.2])\n",
        "plt.xlabel('  n--->  ')\n",
        "plt.ylabel('Amplitude ----> ')\n",
        "plt.title('Unit ramp Signal')\n",
        "plt.grid(True)\n",
        "plt.show()"
      ],
      "metadata": {
        "colab": {
          "base_uri": "https://localhost:8080/",
          "height": 384
        },
        "id": "4C8KqqhnbSVr",
        "outputId": "9d816cc4-847d-4530-c4dd-191985e5f4bf"
      },
      "execution_count": null,
      "outputs": [
        {
          "output_type": "stream",
          "name": "stdout",
          "text": [
            "[-2, -1, 0, 1, 2, 3, 4, 5]\n",
            "[0, 0, 0, 1, 2, 3, 4, 5]\n"
          ]
        },
        {
          "output_type": "stream",
          "name": "stderr",
          "text": [
            "<ipython-input-2-9944708be770>:11: UserWarning: In Matplotlib 3.3 individual lines on a stem plot will be added as a LineCollection instead of individual lines. This significantly improves the performance of a stem plot. To remove this warning and switch to the new behaviour, set the \"use_line_collection\" keyword argument to True.\n",
            "  plt.stem(n, y)\n"
          ]
        },
        {
          "output_type": "display_data",
          "data": {
            "text/plain": [
              "<Figure size 432x288 with 1 Axes>"
            ],
            "image/png": "[encoded data removed]"
          },
          "metadata": {
            "needs_background": "light"
          }
        }
      ]
    },
    {
      "cell_type": "code",
      "source": [
        "#Impulse Signal\n",
        "\n",
        "def unit_impulse(a, n):\n",
        "    delta =[]\n",
        "    for sample in n:\n",
        "        if sample == a:\n",
        "            delta.append(1)\n",
        "        else:\n",
        "            delta.append(0)\n",
        "              \n",
        "    return delta\n",
        "  \n",
        "a = 0 # Enter delay or advance\n",
        "UL = 10\n",
        "LL = -10\n",
        "n = np.arange(LL, UL, 1)\n",
        "d = unit_impulse(a, n)\n",
        "plt.stem(n, d)\n",
        "plt.xlabel('n')\n",
        "plt.xticks(np.arange(LL, UL, 1))\n",
        "plt.yticks([0, 1])\n",
        "plt.ylabel('d[n]')\n",
        "plt.title('Unit Impulse d[0]')\n"
      ],
      "metadata": {
        "colab": {
          "base_uri": "https://localhost:8080/",
          "height": 367
        },
        "id": "50OmmgyBcT4g",
        "outputId": "e24b00f3-9132-4f96-f4ae-e7f0e25bafcd"
      },
      "execution_count": 10,
      "outputs": [
        {
          "output_type": "stream",
          "name": "stderr",
          "text": [
            "<ipython-input-10-7cbaf4a9ae26>:18: UserWarning: In Matplotlib 3.3 individual lines on a stem plot will be added as a LineCollection instead of individual lines. This significantly improves the performance of a stem plot. To remove this warning and switch to the new behaviour, set the \"use_line_collection\" keyword argument to True.\n",
            "  plt.stem(n, d)\n"
          ]
        },
        {
          "output_type": "execute_result",
          "data": {
            "text/plain": [
              "Text(0.5, 1.0, 'Unit Impulse d[0]')"
            ]
          },
          "metadata": {},
          "execution_count": 10
        },
        {
          "output_type": "display_data",
          "data": {
            "text/plain": [
              "<Figure size 432x288 with 1 Axes>"
            ],
            "image/png": "[encoded data removed]"
          },
          "metadata": {
            "needs_background": "light"
          }
        }
      ]
    },
    {
      "cell_type": "code",
      "source": [
        "#Exponential Signal\n",
        "\n",
        "a = 0.9\n",
        "n = range(0, 26, 1)\n",
        "y = []\n",
        "\n",
        "for i in range(len(n)):\n",
        "    temp = a**n[i]\n",
        "    y.append(temp)\n",
        "    \n",
        "\n",
        "#Plotting the graph\n",
        "plt.stem(y)\n",
        "plt.axis([-0.3, 25.1, -0.1, 1.1])\n",
        "plt.xlabel('  n--->  ')\n",
        "plt.ylabel('Amplitude ----> ')\n",
        "plt.title('Exponential signal for 0 < a < 1')\n",
        "plt.grid(True)\n",
        "plt.show()"
      ],
      "metadata": {
        "colab": {
          "base_uri": "https://localhost:8080/",
          "height": 350
        },
        "id": "GXstQk48ceVs",
        "outputId": "df899c17-f2eb-4ff8-9a1d-8f0121615cfa"
      },
      "execution_count": null,
      "outputs": [
        {
          "output_type": "stream",
          "name": "stderr",
          "text": [
            "<ipython-input-5-2c2362cc2a26>:13: UserWarning: In Matplotlib 3.3 individual lines on a stem plot will be added as a LineCollection instead of individual lines. This significantly improves the performance of a stem plot. To remove this warning and switch to the new behaviour, set the \"use_line_collection\" keyword argument to True.\n",
            "  plt.stem(y)\n"
          ]
        },
        {
          "output_type": "display_data",
          "data": {
            "text/plain": [
              "<Figure size 432x288 with 1 Axes>"
            ],
            "image/png": "[encoded data removed]"
          },
          "metadata": {
            "needs_background": "light"
          }
        }
      ]
    },
    {
      "cell_type": "code",
      "source": [
        "#Sinusoidal Signal\n",
        "\n",
        "import matplotlib.pyplot as plt\n",
        "import numpy as np\n",
        "\n",
        "fs = 100 \n",
        "f = 2\n",
        "\n",
        "x = np.arange(fs)\n",
        "\n",
        "y = np.sin(2*np.pi*f * (x/fs)) \n",
        "plt.xlabel('  n--->  ')\n",
        "plt.ylabel('Amplitude ----> ')\n",
        "plt.title('Sine Wave')\n",
        "plt.stem(x,y, 'r', )\n",
        "plt.plot(x,y)"
      ],
      "metadata": {
        "colab": {
          "base_uri": "https://localhost:8080/",
          "height": 367
        },
        "id": "nrGYwK6Jjuu9",
        "outputId": "ec71fc43-2893-46d6-9451-94c8c7d6f441"
      },
      "execution_count": 4,
      "outputs": [
        {
          "output_type": "stream",
          "name": "stderr",
          "text": [
            "<ipython-input-4-32dab61ded96>:15: UserWarning: In Matplotlib 3.3 individual lines on a stem plot will be added as a LineCollection instead of individual lines. This significantly improves the performance of a stem plot. To remove this warning and switch to the new behaviour, set the \"use_line_collection\" keyword argument to True.\n",
            "  plt.stem(x,y, 'r', )\n"
          ]
        },
        {
          "output_type": "execute_result",
          "data": {
            "text/plain": [
              "[<matplotlib.lines.Line2D at 0x7fa1ec8e4820>]"
            ]
          },
          "metadata": {},
          "execution_count": 4
        },
        {
          "output_type": "display_data",
          "data": {
            "text/plain": [
              "<Figure size 432x288 with 1 Axes>"
            ],
            "image/png": "[encoded data removed]"
          },
          "metadata": {
            "needs_background": "light"
          }
        }
      ]
    },
    {
      "cell_type": "code",
      "source": [],
      "metadata": {
        "id": "aFSRzf5rtWa6"
      },
      "execution_count": null,
      "outputs": []
    }
  ]
}